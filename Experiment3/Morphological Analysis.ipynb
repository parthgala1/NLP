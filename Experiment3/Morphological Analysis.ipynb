{
 "cells": [
  {
   "cell_type": "code",
   "execution_count": 1,
   "metadata": {},
   "outputs": [],
   "source": [
    "import nltk\n",
    "from nltk.tokenize import word_tokenize\n",
    "from nltk.stem import WordNetLemmatizer\n",
    "from nltk.corpus import wordnet"
   ]
  },
  {
   "cell_type": "code",
   "execution_count": 3,
   "metadata": {},
   "outputs": [],
   "source": [
    "def get_wordnet_pos(tag):\n",
    "    if tag.startswith('J'):\n",
    "        return wordnet.ADJ\n",
    "    elif tag.startswith('V'):\n",
    "        return wordnet.VERB\n",
    "    elif tag.startswith('N'):\n",
    "        return wordnet.NOUN\n",
    "    elif tag.startswith('R'):\n",
    "        return wordnet.ADV\n",
    "    else:\n",
    "        return None"
   ]
  },
  {
   "cell_type": "code",
   "execution_count": 4,
   "metadata": {},
   "outputs": [],
   "source": [
    "def morphological_analysis(sentence):\n",
    "    lemmatizer = WordNetLemmatizer()\n",
    "    tokens = word_tokenize(sentence)\n",
    "    pos_tags = nltk.pos_tag(tokens)\n",
    "    analysed_word = []\n",
    "    for token, pos_tag in pos_tags:\n",
    "        wordnet_pos = get_wordnet_pos(pos_tag)\n",
    "        if wordnet_pos:\n",
    "            lemma = lemmatizer.lemmatize(token, pos=wordnet_pos)\n",
    "            analysed_word.append((token, pos_tag, lemma))\n",
    "        else:\n",
    "            analysed_word.append((token, pos_tag, token))\n",
    "    return analysed_word"
   ]
  },
  {
   "cell_type": "code",
   "execution_count": 6,
   "metadata": {},
   "outputs": [
    {
     "name": "stdout",
     "output_type": "stream",
     "text": [
      "Token: This, POS Tag: DT, Lemma: This\n",
      "Token: exercise, POS Tag: NN, Lemma: exercise\n",
      "Token: is, POS Tag: VBZ, Lemma: be\n",
      "Token: done, POS Tag: VBN, Lemma: do\n",
      "Token: by, POS Tag: IN, Lemma: by\n",
      "Token: Parth, POS Tag: NNP, Lemma: Parth\n",
      "Token: Gala, POS Tag: NNP, Lemma: Gala\n",
      "Token: and, POS Tag: CC, Lemma: and\n",
      "Token: it, POS Tag: PRP, Lemma: it\n",
      "Token: helps, POS Tag: VBZ, Lemma: help\n",
      "Token: in, POS Tag: IN, Lemma: in\n",
      "Token: learning, POS Tag: VBG, Lemma: learn\n",
      "Token: morphological, POS Tag: JJ, Lemma: morphological\n",
      "Token: analysis, POS Tag: NN, Lemma: analysis\n",
      "Token: ., POS Tag: ., Lemma: .\n"
     ]
    }
   ],
   "source": [
    "sentence = \"This exercise is done by Parth Gala and it helps in learning morphological analysis.\"\n",
    "analysed_result = morphological_analysis(sentence)\n",
    "for token, pos_tag, lemma in analysed_result:\n",
    "    print(f\"Token: {token}, POS Tag: {pos_tag}, Lemma: {lemma}\")"
   ]
  },
  {
   "cell_type": "code",
   "execution_count": null,
   "metadata": {},
   "outputs": [],
   "source": []
  }
 ],
 "metadata": {
  "kernelspec": {
   "display_name": "base",
   "language": "python",
   "name": "python3"
  },
  "language_info": {
   "codemirror_mode": {
    "name": "ipython",
    "version": 3
   },
   "file_extension": ".py",
   "mimetype": "text/x-python",
   "name": "python",
   "nbconvert_exporter": "python",
   "pygments_lexer": "ipython3",
   "version": "3.12.5"
  }
 },
 "nbformat": 4,
 "nbformat_minor": 2
}
