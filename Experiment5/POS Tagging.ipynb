{
 "cells": [
  {
   "cell_type": "code",
   "execution_count": 2,
   "metadata": {},
   "outputs": [
    {
     "name": "stderr",
     "output_type": "stream",
     "text": [
      "[nltk_data] Downloading package treebank to\n",
      "[nltk_data]     C:\\Users\\Dell\\AppData\\Roaming\\nltk_data...\n",
      "[nltk_data]   Package treebank is already up-to-date!\n",
      "[nltk_data] Downloading package punkt to\n",
      "[nltk_data]     C:\\Users\\Dell\\AppData\\Roaming\\nltk_data...\n",
      "[nltk_data]   Package punkt is already up-to-date!\n"
     ]
    },
    {
     "data": {
      "text/plain": [
       "True"
      ]
     },
     "execution_count": 2,
     "metadata": {},
     "output_type": "execute_result"
    }
   ],
   "source": [
    "import nltk\n",
    "from nltk.tag import hmm\n",
    "from nltk.corpus import treebank\n",
    "nltk.download('treebank')\n",
    "nltk.download('punkt')"
   ]
  },
  {
   "cell_type": "code",
   "execution_count": 3,
   "metadata": {},
   "outputs": [],
   "source": [
    "taggerd_sentences = treebank.tagged_sents()\n",
    "\n",
    "train_size = int(0.8 * len(taggerd_sentences))\n",
    "train_data = taggerd_sentences[:train_size]\n",
    "test_data = taggerd_sentences[train_size:]\n"
   ]
  },
  {
   "cell_type": "code",
   "execution_count": 4,
   "metadata": {},
   "outputs": [],
   "source": [
    "trainer = hmm.HiddenMarkovModelTrainer()\n",
    "pos_tagger = trainer.train(train_data)"
   ]
  },
  {
   "cell_type": "code",
   "execution_count": 10,
   "metadata": {},
   "outputs": [
    {
     "name": "stdout",
     "output_type": "stream",
     "text": [
      "('I', 'PRP') \n",
      "\n",
      "('got', 'VBD') \n",
      "\n",
      "('90', 'CD') \n",
      "\n",
      "('%', 'NN') \n",
      "\n",
      "('in', 'IN') \n",
      "\n",
      "('djsce', 'NNP') \n",
      "\n",
      "('.', 'NNP') \n",
      "\n",
      "('This', 'NNP') \n",
      "\n",
      "('name', 'NNP') \n",
      "\n",
      "('is', 'NNP') \n",
      "\n",
      "('this', 'NNP') \n",
      "\n",
      "('name', 'NNP') \n",
      "\n",
      "('name', 'NNP') \n",
      "\n",
      "('is', 'NNP') \n",
      "\n",
      "('this', 'NNP') \n",
      "\n",
      "('also', 'NNP') \n",
      "\n",
      "('.', 'NNP') \n",
      "\n"
     ]
    }
   ],
   "source": [
    "sentence = \"I got 90% in djsce. This name is this name name is this also.\"\n",
    "tokens = nltk.word_tokenize(sentence)\n",
    "pos_tags = pos_tagger.tag(tokens)\n",
    "for tag1 in pos_tags:\n",
    "    print(tag1,\"\\n\")"
   ]
  },
  {
   "cell_type": "code",
   "execution_count": null,
   "metadata": {},
   "outputs": [],
   "source": []
  }
 ],
 "metadata": {
  "kernelspec": {
   "display_name": "base",
   "language": "python",
   "name": "python3"
  },
  "language_info": {
   "codemirror_mode": {
    "name": "ipython",
    "version": 3
   },
   "file_extension": ".py",
   "mimetype": "text/x-python",
   "name": "python",
   "nbconvert_exporter": "python",
   "pygments_lexer": "ipython3",
   "version": "3.12.5"
  }
 },
 "nbformat": 4,
 "nbformat_minor": 2
}
